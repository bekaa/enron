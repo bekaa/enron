{
 "cells": [
  {
   "cell_type": "markdown",
   "metadata": {},
   "source": [
    "## contents :\n",
    "1.      [Introduction](#Introduction)\n",
    "*   [Data used](#Data-used)\n",
    "*   [Exploring data and handling outliers and missing values](#Exploring-data-and-handling-outliers-and-missing-values)\n",
    "*  [Features](#Features) :\n",
    "    1.   [Creation](#Creation)\n",
    "    *   [Selection](#Selection)\n",
    "    *     [Scaling](#Scaling)\n",
    "*    [Algorithm](#algorithm)\n",
    "    1.  [Testing different algorithms](#Testing-different-algorithms)  \n",
    "        *   Support Vector Machine\n",
    "        * Decision Trees\n",
    "        *  Adaboost\n",
    "        *   Random Forest \n",
    "    *    [Tuning the Algorithm](#Tuning-the-algorithm)\n",
    "    *    [Accuracy after tuning](#Accuracy-after-tuning)\n",
    "*  [Validation](#Validation)\n",
    "*  [Evaluation](#Evaluation)\n",
    "*  [Final results](#Final-results)\n",
    "*  [Resources](#Resources) "
   ]
  },
  {
   "cell_type": "markdown",
   "metadata": {},
   "source": [
    "### Introduction\n",
    "Enron Corporation was an American energy, commodities, and services company based in Houston, Texas. It was founded in 1985 as the result of a merger between Houston Natural Gas and InterNorth, both relatively small regional companies in the U.S. Before its bankruptcy on December 2, 2001, Enron employed approximately 20,000 staff and was one of the world's major electricity, natural gas, communications and pulp and paper companies, with claimed revenues of nearly $101 billion during 2000. Fortune named Enron \"America's Most Innovative Company\" for six consecutive years.   \n",
    "  \n",
    "By 2002, it had collapsed into bankruptcy due to widespread corporate fraud. In the resulting Federal investigation, a significant amount of typically confidential information entered into the public record, including tens of thousands of emails and detailed financial data for top executives. Enron's collapse affected the lives of thousands of employees and shook Wall Street to its core. For more information visit on of the following resources :  [investopedia](http://www.investopedia.com/updates/enron-scandal-summary/) or [wikipedia](https://en.wikipedia.org/wiki/Enron).  \n",
    "    \n",
    "With the availability of the enormous amout of emails and the financial data of top executives, comes the need for analysing this data to predict persons who participated in the fraud.  \n",
    "Thanks to udacity instructors in the data-analysis Nanodegree program, who made a hand-generated list of persons of interest in the fraud case, which means individuals who were indicted, reached a settlement or plea deal with the government, or testified in exchange for prosecution immunity.  \n",
    "\n",
    "So we have tons of emails, financial data of top executives, and list of persons of interest, What we are going to do in this project is to use all of this data to predict more persons of interest using Machine Learning.  \n",
    "  \n",
    "So coming to machine learning, what's machine learning is going to do for this project is to use supervised learning to first search for the pattern of persons of interest ( lets call them POI ), and after that we gave it a new financial data of some employee we don't know if he is a POI or not, and machine learning would tell us if he is guilty (POI) or not.   \n",
    "   \n",
    "-------"
   ]
  },
  {
   "cell_type": "markdown",
   "metadata": {},
   "source": [
    "\n",
    "### Data used"
   ]
  },
  {
   "cell_type": "markdown",
   "metadata": {},
   "source": [
    "For this project we are going to use financial data combined with emails information into a dictionary, where each key-value pair in the dictionary corresponds to one person. The dictionary key is the person's name, and the value is another dictionary, which contains the names of all the features and their values for that person. The features in the data fall into three major types, namely financial features, email features and POI labels.  \n",
    "  \n",
    " <span style=\"color:blue\">__financial features__</span>: ['salary', 'deferral_payments', 'total_payments', 'loan_advances', 'bonus',   'restricted_stock_deferred', 'deferred_income', 'total_stock_value', 'expenses', 'exercised_stock_options', 'other', 'long_term_incentive', 'restricted_stock', 'director_fees'] (all units are in US dollars)  \n",
    "  \n",
    " <span style=\"color:blue\">__email features__</span>: ['to_messages', 'email_address', 'from_poi_to_this_person', 'from_messages', 'from_this_person_to_poi', 'shared_receipt_with_poi'] (units are generally number of emails messages; notable exception is ‘email_address’, which is a text string)  \n",
    "   \n",
    " <span style=\"color:blue\">__POI label__</span>: [‘poi’] (boolean, represented as integer)  \n",
    "   \n",
    " ----\n",
    " \n",
    " The data can be found as a pickle format or as a pdf file on my project repo on github.  \n",
    " The emails can be downloaded from this website, if you are interested. [https://www.cs.cmu.edu/~./enron/].\n",
    " \n",
    " ----\n",
    " "
   ]
  },
  {
   "cell_type": "markdown",
   "metadata": {},
   "source": [
    "### Exploring data and handling outliers and missing values"
   ]
  },
  {
   "cell_type": "code",
   "execution_count": 6,
   "metadata": {
    "collapsed": false,
    "hideCode": false,
    "hidePrompt": false
   },
   "outputs": [],
   "source": [
    "import pickle\n",
    "from ggplot import *\n",
    "import pandas\n",
    "with open(\"data/enron_dataset.pkl\", \"r\") as data_file:\n",
    "    data_dict = pickle.load(data_file)\n",
    "\n",
    "enron = pandas.read_csv('data/enron.csv')\n",
    "enron.index = data_dict.keys()\n",
    "enron.drop('Unnamed: 21',axis=1,inplace=True)"
   ]
  },
  {
   "cell_type": "markdown",
   "metadata": {
    "hideCode": false
   },
   "source": [
    "The data contains 146 entry (person) with 21 features.  \n",
    "The following graph shows salary and bonus values.  "
   ]
  },
  {
   "cell_type": "code",
   "execution_count": 7,
   "metadata": {
    "collapsed": false,
    "hideCode": false,
    "hideOutput": false,
    "hidePrompt": true
   },
   "outputs": [
    {
     "data": {
      "image/png": "[encoded data removed]",
      "text/plain": [
       "<matplotlib.figure.Figure at 0x7fae6c7c5a10>"
      ]
     },
     "metadata": {},
     "output_type": "display_data"
    },
    {
     "data": {
      "text/plain": [
       "<ggplot: (8774194995369)>"
      ]
     },
     "execution_count": 7,
     "metadata": {},
     "output_type": "execute_result"
    }
   ],
   "source": [
    "ggplot(aes(x = 'salary', y = 'bonus', color = 'poi')\\\n",
    "       , data = enron )+\\\n",
    "      geom_point()"
   ]
  },
  {
   "cell_type": "markdown",
   "metadata": {},
   "source": [
    "As we notice there is one value which seems to be an outlier, lets figuer it out."
   ]
  },
  {
   "cell_type": "code",
   "execution_count": 8,
   "metadata": {
    "collapsed": false,
    "hideCode": false,
    "hidePrompt": true
   },
   "outputs": [
    {
     "data": {
      "text/plain": [
       "'TOTAL'"
      ]
     },
     "execution_count": 8,
     "metadata": {},
     "output_type": "execute_result"
    }
   ],
   "source": [
    "enron['salary'].argmax()"
   ]
  },
  {
   "cell_type": "markdown",
   "metadata": {},
   "source": [
    "As it seems it's the sum of all values and not a person, so let's remove it and look again to our plot."
   ]
  },
  {
   "cell_type": "code",
   "execution_count": 11,
   "metadata": {
    "collapsed": false,
    "hideCode": false,
    "hidePrompt": true
   },
   "outputs": [
    {
     "data": {
      "image/png": "[encoded data removed]",
      "text/plain": [
       "<matplotlib.figure.Figure at 0x7fae6c687950>"
      ]
     },
     "metadata": {},
     "output_type": "display_data"
    },
    {
     "data": {
      "text/plain": [
       "<ggplot: (8774194830297)>"
      ]
     },
     "execution_count": 11,
     "metadata": {},
     "output_type": "execute_result"
    }
   ],
   "source": [
    "enron.drop('TOTAL', axis=0, inplace=True)\n",
    "ggplot(aes(x = 'salary', y = 'bonus', color = 'poi')\\\n",
    "       , data = enron )+\\\n",
    "      geom_point()"
   ]
  },
  {
   "cell_type": "markdown",
   "metadata": {},
   "source": [
    "The plot now is more clear than before, there still some more outliers let's see who they are :"
   ]
  },
  {
   "cell_type": "code",
   "execution_count": 13,
   "metadata": {
    "collapsed": false,
    "hideCode": true,
    "hidePrompt": true
   },
   "outputs": [
    {
     "data": {
      "text/html": [
       "<div>\n",
       "<table border=\"1\" class=\"dataframe\">\n",
       "  <thead>\n",
       "    <tr style=\"text-align: right;\">\n",
       "      <th></th>\n",
       "      <th>poi</th>\n",
       "      <th>salary</th>\n",
       "      <th>bonus</th>\n",
       "    </tr>\n",
       "  </thead>\n",
       "  <tbody>\n",
       "    <tr>\n",
       "      <th>LAY KENNETH L</th>\n",
       "      <td>True</td>\n",
       "      <td>1072321.0</td>\n",
       "      <td>7000000.0</td>\n",
       "    </tr>\n",
       "    <tr>\n",
       "      <th>SKILLING JEFFREY K</th>\n",
       "      <td>True</td>\n",
       "      <td>1111258.0</td>\n",
       "      <td>5600000.0</td>\n",
       "    </tr>\n",
       "    <tr>\n",
       "      <th>PICKERING MARK R</th>\n",
       "      <td>False</td>\n",
       "      <td>655037.0</td>\n",
       "      <td>300000.0</td>\n",
       "    </tr>\n",
       "    <tr>\n",
       "      <th>FREVERT MARK A</th>\n",
       "      <td>False</td>\n",
       "      <td>1060932.0</td>\n",
       "      <td>2000000.0</td>\n",
       "    </tr>\n",
       "  </tbody>\n",
       "</table>\n",
       "</div>"
      ],
      "text/plain": [
       "                      poi     salary      bonus\n",
       "LAY KENNETH L        True  1072321.0  7000000.0\n",
       "SKILLING JEFFREY K   True  1111258.0  5600000.0\n",
       "PICKERING MARK R    False   655037.0   300000.0\n",
       "FREVERT MARK A      False  1060932.0  2000000.0"
      ]
     },
     "execution_count": 13,
     "metadata": {},
     "output_type": "execute_result"
    }
   ],
   "source": [
    "enron.loc[ enron['salary'] > 600000 ][['poi','salary','bonus']]"
   ]
  },
  {
   "cell_type": "markdown",
   "metadata": {},
   "source": [
    "As it appears the first two are a part of the board of directors, But the last two aren't directors so it's not normal to have these big salraies.  \n",
    "\n",
    "Now we are in a situation whether to choose it remove these outliers or to keep them.   \n",
    "In my opinion the data set is already small (145 entry) so any removal would make it much worse, so I chose to keep these outliers and only remove the entry 'TOTAL' as it's not a person.\n",
    "\n",
    "\n",
    "-------------------\n",
    "\n",
    "No lets check for missing values in our data."
   ]
  },
  {
   "cell_type": "code",
   "execution_count": 177,
   "metadata": {
    "collapsed": false,
    "hideCode": true,
    "hidePrompt": true
   },
   "outputs": [
    {
     "data": {
      "text/html": [
       "<div>\n",
       "<table border=\"1\" class=\"dataframe\">\n",
       "  <thead>\n",
       "    <tr style=\"text-align: right;\">\n",
       "      <th></th>\n",
       "      <th>length</th>\n",
       "      <th>#nans</th>\n",
       "      <th>#not_nans</th>\n",
       "      <th>nans%</th>\n",
       "      <th>not_nans%</th>\n",
       "    </tr>\n",
       "  </thead>\n",
       "  <tbody>\n",
       "    <tr>\n",
       "      <th>loan_advances</th>\n",
       "      <td>145.0</td>\n",
       "      <td>142.0</td>\n",
       "      <td>3.0</td>\n",
       "      <td>97.9 %</td>\n",
       "      <td>2.1 %</td>\n",
       "    </tr>\n",
       "    <tr>\n",
       "      <th>director_fees</th>\n",
       "      <td>145.0</td>\n",
       "      <td>129.0</td>\n",
       "      <td>16.0</td>\n",
       "      <td>89.0 %</td>\n",
       "      <td>11.0 %</td>\n",
       "    </tr>\n",
       "    <tr>\n",
       "      <th>restricted_stock_deferred</th>\n",
       "      <td>145.0</td>\n",
       "      <td>128.0</td>\n",
       "      <td>17.0</td>\n",
       "      <td>88.3 %</td>\n",
       "      <td>11.7 %</td>\n",
       "    </tr>\n",
       "    <tr>\n",
       "      <th>deferral_payments</th>\n",
       "      <td>145.0</td>\n",
       "      <td>107.0</td>\n",
       "      <td>38.0</td>\n",
       "      <td>73.8 %</td>\n",
       "      <td>26.2 %</td>\n",
       "    </tr>\n",
       "    <tr>\n",
       "      <th>deferred_income</th>\n",
       "      <td>145.0</td>\n",
       "      <td>97.0</td>\n",
       "      <td>48.0</td>\n",
       "      <td>66.9 %</td>\n",
       "      <td>33.1 %</td>\n",
       "    </tr>\n",
       "    <tr>\n",
       "      <th>long_term_incentive</th>\n",
       "      <td>145.0</td>\n",
       "      <td>80.0</td>\n",
       "      <td>65.0</td>\n",
       "      <td>55.2 %</td>\n",
       "      <td>44.8 %</td>\n",
       "    </tr>\n",
       "    <tr>\n",
       "      <th>bonus</th>\n",
       "      <td>145.0</td>\n",
       "      <td>64.0</td>\n",
       "      <td>81.0</td>\n",
       "      <td>44.1 %</td>\n",
       "      <td>55.9 %</td>\n",
       "    </tr>\n",
       "    <tr>\n",
       "      <th>from_poi_to_this_person</th>\n",
       "      <td>145.0</td>\n",
       "      <td>59.0</td>\n",
       "      <td>86.0</td>\n",
       "      <td>40.7 %</td>\n",
       "      <td>59.3 %</td>\n",
       "    </tr>\n",
       "    <tr>\n",
       "      <th>shared_receipt_with_poi</th>\n",
       "      <td>145.0</td>\n",
       "      <td>59.0</td>\n",
       "      <td>86.0</td>\n",
       "      <td>40.7 %</td>\n",
       "      <td>59.3 %</td>\n",
       "    </tr>\n",
       "    <tr>\n",
       "      <th>from_this_person_to_poi</th>\n",
       "      <td>145.0</td>\n",
       "      <td>59.0</td>\n",
       "      <td>86.0</td>\n",
       "      <td>40.7 %</td>\n",
       "      <td>59.3 %</td>\n",
       "    </tr>\n",
       "    <tr>\n",
       "      <th>to_messages</th>\n",
       "      <td>145.0</td>\n",
       "      <td>59.0</td>\n",
       "      <td>86.0</td>\n",
       "      <td>40.7 %</td>\n",
       "      <td>59.3 %</td>\n",
       "    </tr>\n",
       "    <tr>\n",
       "      <th>from_messages</th>\n",
       "      <td>145.0</td>\n",
       "      <td>59.0</td>\n",
       "      <td>86.0</td>\n",
       "      <td>40.7 %</td>\n",
       "      <td>59.3 %</td>\n",
       "    </tr>\n",
       "    <tr>\n",
       "      <th>other</th>\n",
       "      <td>145.0</td>\n",
       "      <td>53.0</td>\n",
       "      <td>92.0</td>\n",
       "      <td>36.6 %</td>\n",
       "      <td>63.4 %</td>\n",
       "    </tr>\n",
       "    <tr>\n",
       "      <th>salary</th>\n",
       "      <td>145.0</td>\n",
       "      <td>51.0</td>\n",
       "      <td>94.0</td>\n",
       "      <td>35.2 %</td>\n",
       "      <td>64.8 %</td>\n",
       "    </tr>\n",
       "    <tr>\n",
       "      <th>expenses</th>\n",
       "      <td>145.0</td>\n",
       "      <td>51.0</td>\n",
       "      <td>94.0</td>\n",
       "      <td>35.2 %</td>\n",
       "      <td>64.8 %</td>\n",
       "    </tr>\n",
       "    <tr>\n",
       "      <th>exercised_stock_options</th>\n",
       "      <td>145.0</td>\n",
       "      <td>44.0</td>\n",
       "      <td>101.0</td>\n",
       "      <td>30.3 %</td>\n",
       "      <td>69.7 %</td>\n",
       "    </tr>\n",
       "    <tr>\n",
       "      <th>restricted_stock</th>\n",
       "      <td>145.0</td>\n",
       "      <td>36.0</td>\n",
       "      <td>109.0</td>\n",
       "      <td>24.8 %</td>\n",
       "      <td>75.2 %</td>\n",
       "    </tr>\n",
       "    <tr>\n",
       "      <th>email_address</th>\n",
       "      <td>145.0</td>\n",
       "      <td>34.0</td>\n",
       "      <td>111.0</td>\n",
       "      <td>23.4 %</td>\n",
       "      <td>76.6 %</td>\n",
       "    </tr>\n",
       "    <tr>\n",
       "      <th>total_payments</th>\n",
       "      <td>145.0</td>\n",
       "      <td>21.0</td>\n",
       "      <td>124.0</td>\n",
       "      <td>14.5 %</td>\n",
       "      <td>85.5 %</td>\n",
       "    </tr>\n",
       "    <tr>\n",
       "      <th>total_stock_value</th>\n",
       "      <td>145.0</td>\n",
       "      <td>20.0</td>\n",
       "      <td>125.0</td>\n",
       "      <td>13.8 %</td>\n",
       "      <td>86.2 %</td>\n",
       "    </tr>\n",
       "    <tr>\n",
       "      <th>poi</th>\n",
       "      <td>145.0</td>\n",
       "      <td>0.0</td>\n",
       "      <td>145.0</td>\n",
       "      <td>0.0 %</td>\n",
       "      <td>100.0 %</td>\n",
       "    </tr>\n",
       "  </tbody>\n",
       "</table>\n",
       "</div>"
      ],
      "text/plain": [
       "                           length  #nans  #not_nans   nans% not_nans%\n",
       "loan_advances               145.0  142.0        3.0  97.9 %     2.1 %\n",
       "director_fees               145.0  129.0       16.0  89.0 %    11.0 %\n",
       "restricted_stock_deferred   145.0  128.0       17.0  88.3 %    11.7 %\n",
       "deferral_payments           145.0  107.0       38.0  73.8 %    26.2 %\n",
       "deferred_income             145.0   97.0       48.0  66.9 %    33.1 %\n",
       "long_term_incentive         145.0   80.0       65.0  55.2 %    44.8 %\n",
       "bonus                       145.0   64.0       81.0  44.1 %    55.9 %\n",
       "from_poi_to_this_person     145.0   59.0       86.0  40.7 %    59.3 %\n",
       "shared_receipt_with_poi     145.0   59.0       86.0  40.7 %    59.3 %\n",
       "from_this_person_to_poi     145.0   59.0       86.0  40.7 %    59.3 %\n",
       "to_messages                 145.0   59.0       86.0  40.7 %    59.3 %\n",
       "from_messages               145.0   59.0       86.0  40.7 %    59.3 %\n",
       "other                       145.0   53.0       92.0  36.6 %    63.4 %\n",
       "salary                      145.0   51.0       94.0  35.2 %    64.8 %\n",
       "expenses                    145.0   51.0       94.0  35.2 %    64.8 %\n",
       "exercised_stock_options     145.0   44.0      101.0  30.3 %    69.7 %\n",
       "restricted_stock            145.0   36.0      109.0  24.8 %    75.2 %\n",
       "email_address               145.0   34.0      111.0  23.4 %    76.6 %\n",
       "total_payments              145.0   21.0      124.0  14.5 %    85.5 %\n",
       "total_stock_value           145.0   20.0      125.0  13.8 %    86.2 %\n",
       "poi                         145.0    0.0      145.0   0.0 %   100.0 %"
      ]
     },
     "execution_count": 177,
     "metadata": {},
     "output_type": "execute_result"
    }
   ],
   "source": [
    "import numpy as np\n",
    "enron_nan_summary = pandas.DataFrame(columns=['length','#nans','#not_nans','nans%','not_nans%'])\n",
    "\n",
    "for col in enron.columns :\n",
    "    length = float(len( enron[col] ))\n",
    "    nans = len([ x for x in enron[col] if str(x) == 'nan'])\n",
    "    not_nans = length - nans\n",
    "    enron_nan_summary.loc[col] = [length, nans, not_nans,\n",
    "                                  '%s %%' % round((nans/length*100),1),\n",
    "                                  '%s %%' % round((not_nans/length*100),1)]\n",
    "\n",
    "enron_nan_summary.sort_values(['#nans'],inplace=True, ascending=False)\n",
    "enron_nan_summary"
   ]
  },
  {
   "cell_type": "markdown",
   "metadata": {
    "collapsed": true
   },
   "source": [
    "As in table, there are many missings in the features :\n",
    "- loan_advances   \n",
    "- director_fees   \n",
    "- restricted_stock_deferred\n",
    "- deferral_payments\t\n",
    "- deferred_income   \n",
    "   \n",
    "So as we are doing our analysis we better keep away from them as they don't include all persons.\n",
    "\n",
    "------"
   ]
  },
  {
   "cell_type": "markdown",
   "metadata": {
    "collapsed": true
   },
   "source": [
    "### Features :  \n",
    "\n",
    "Before going to machine learning and applying algorithms to the data, lets first play with the features.   \n",
    "We are going to make new features out of some of them, select the best features from the list, and scale them.  \n",
    "  \n",
    "-----"
   ]
  },
  {
   "cell_type": "markdown",
   "metadata": {},
   "source": [
    "#### Creation :  \n",
    "  \n",
    "It's always nice to think of new features and not to stick with existing ones, maybe we got some better features, who knows!. :)   \n",
    "We have six features regarding the emails' data, I'm going to make more 4 features out of them.  \n",
    "Because the number of emails per person can not be accurate, so I'm going to use percentages instead of the count.  \n",
    "For each of the following features [ from_poi_to_this_person, from_this_person_to_poi ], I'll make two propotional features, the first one take the ratio from the person's count of emails (ie. [ to_messages, from_messages ] ), the second one will take the ratio from the sum of poi's emails ( ie. sum of to_messages/from_messages of all persons with poi label equal 1 ).  \n",
    "  \n",
    "I'll name the four new features as following : [ from_poi_to_this_person_ratio1, from_poi_to_this_person_ratio2,   from_this_person_to_poi_ratio1, from_this_person_to_poi_ratio2 ]\n",
    "\n",
    "We will see how effective these feature in the next section.  \n",
    "  \n",
    "--------"
   ]
  },
  {
   "cell_type": "markdown",
   "metadata": {},
   "source": [
    "#### Selection \n",
    "\n",
    "Now we have 25 features (excluding poi) some of them aren't correlated with the label (poi) and some others have so many missing values which makes it unbiased, so we are going to select the best features out of them.   \n",
    "   \n",
    "we have to factors for the features we want to keep: first they have to have low number of missing values, second to be correlated to the poi label.  \n",
    "For the first factor, if we go up for the table of missings, we will know which features have high missings and which have low missings, I'm going to keep the feature with missing values lower than 50%, which  would be the following ones :   \n",
    "    \n",
    "['long_term_incentive', 'bonus', 'to_messages', 'from_this_person_to_poi', 'from_poi_to_this_person', 'from_messages', 'shared_receipt_with_poi', 'from_poi_to_this_person_ratio2', 'from_poi_to_this_person_ratio1', 'from_this_person_to_poi_ratio2', 'from_this_person_to_poi_ratio1', 'other', 'expenses', 'salary', 'exercised_stock_options', 'restricted_stock',  'total_payments', 'total_stock_value']  \n",
    "  \n",
    "which are 18 features out of the 25.\n",
    "  \n",
    "Now lets move to the next step, I'll use for this step the algorithm selectKBest from sklearn , here is the implementation copied from poi_id.py script :\n",
    "\n",
    "``` python\n",
    "from sklearn.feature_selection import SelectKBest\n",
    "import operator\n",
    "kbest = SelectKBest(k = 'all')\n",
    "kbest.fit(features, labels)\n",
    "scores = { k:v  for k,v in zip(features_list, kbest.scores_) }\n",
    "scores = sorted(scores.items(), key=operator.itemgetter(1), reverse = True )\n",
    "for k,v in scores:\n",
    "\tprint '{}       {}'.format(k,v)\n",
    "```\n",
    "  \n",
    "And below is the score table sorted from highest to lowest:\n",
    "  \n",
    "feature | score\n",
    "-------| -------\n",
    "salary | 25.0975415287\n",
    "total_payments | 24.4676540475\n",
    "long_term_incentive | 21.0600017075\n",
    "expenses | 18.575703268\n",
    "exercised_stock_options | 9.34670079105\n",
    "restricted_stock | 8.86672153711\n",
    "from_messages | 8.74648553213\n",
    "other | 6.23420114051\n",
    "from_this_person_to_poi | 5.34494152315\n",
    "shared_receipt_with_poi | 5.3445588523\n",
    "from_poi_to_this_person_ratio2 | 5.20964513298\n",
    "from_this_person_to_poi_ratio1 | 4.2049708583\n",
    "from_this_person_to_poi_ratio2 | 4.16871646919\n",
    "to_messages | 2.42650812724\n",
    "from_poi_to_this_person_ratio1 | 2.4260187484\n",
    "bonus | 1.69882434858\n",
    "from_poi_to_this_person | 0.164164498234\n",
    "  \n",
    "And I chose to use them all, even score of .16 is not bad.\n",
    "So from here we  have 145 person with 17 feature and  a label 'poi'. \n",
    "\n",
    "---------------------\n",
    "\n"
   ]
  },
  {
   "cell_type": "markdown",
   "metadata": {},
   "source": [
    "#### Scaling \n",
    "\n",
    "As we have each feature from different scales, it's going to be helpful to scale them to the same bounds.  \n",
    "I chose the function MinMaxScaler from sklearn.preprocessing to scale the data to be bounded between 0 and 1.  \n",
    "Here is the implementation [ copied from the poi_id.py file ] :\n",
    "\n",
    "```python\n",
    "from sklearn.preprocessing import MinMaxScaler\n",
    "scaler = MinMaxScaler()\n",
    "data_scaled = copy.deepcopy(data)\n",
    "for i in range(1, len(data[0])) :\n",
    "\tresult = scaler.fit_transform( numpy.array([ float(x) for x in data[:,i]]).reshape(len(data), 1) )\n",
    "\tdata_scaled[:,i] = [ x[0] for x in result ]\n",
    "labels, features_scaled = targetFeatureSplit(data_scaled)\n",
    "```\n",
    "  \n",
    " ____\n",
    " "
   ]
  },
  {
   "cell_type": "markdown",
   "metadata": {
    "collapsed": true
   },
   "source": [
    "### Algorithm \n",
    "\n",
    "Now it's time for machine learning.\n",
    "First of all we need to choose an algorithm to go with.\n",
    "\n",
    "------\n"
   ]
  },
  {
   "cell_type": "markdown",
   "metadata": {},
   "source": [
    "#### Testing different algorithms\n",
    "\n",
    "I chose some 4 algorithm and we are going to test each of them to see what's the best one for our data.\n",
    "\n",
    "1. #####  Support Vector Machine\n",
    "\n",
    "    * [Support vector machines (SVMs)](http://scikit-learn.org/stable/modules/svm.html#svm) are a set of supervised learning methods used for classification, regression and outliers detection.\n",
    "2. ##### Decision Trees\n",
    "    * [Decision Trees (DTs)](http://scikit-learn.org/stable/modules/tree.html#tree) are a non-parametric supervised learning method used for classification and regression. The goal is to create a model that predicts the value of a target variable by learning simple decision rules inferred from the data features.\n",
    "3. ##### Adaboost \n",
    "    * The core principle of [AdaBoost](http://scikit-learn.org/stable/modules/ensemble.html#adaboost) is to fit a sequence of weak learners (i.e., models that are only slightly better than random guessing, such as small decision trees) on repeatedly modified versions of the data. The predictions from all of them are then combined through a weighted majority vote (or sum) to produce the final prediction.   \n",
    "    * The default weak learner is Decision tree classifier but as in this [paper](http://elkingarcia.github.io/Papers/MLDM07.pdf\n",
    ") we can also use SVM as a weak learner, and I'm going to implement both of them.\n",
    "4. ##### Random Forest\n",
    "    * In [random forests](http://scikit-learn.org/stable/modules/ensemble.html#random-forests) each tree in the ensemble is built from a sample drawn with replacement (i.e., a bootstrap sample) from the training set. In addition, when splitting a node during the construction of the tree, the split that is chosen is no longer the best split among all features. Instead, the split that is picked is the best split among a random subset of the features.\n",
    "   \n",
    "-----------\n",
    "\n",
    "The following Table shows the scores of each algorithm on our datasets, all functions I used are imported from [scikit-learn](http://scikit-learn.org/).\n",
    "\n",
    "Algorithm| Accuracy\n",
    "-------|------\n",
    "DecisionTree| .80725 \n",
    "SVM |   N/A  \n",
    "adaboost w/DT |  0.80877 \n",
    "adaboost w/SVM |  N/A  \n",
    "random Forest  |  0.86075\t  \n",
    " \n",
    "-------------\n",
    "\n",
    "As it appears that the result are awful, which leads us to the next section \" how to tune our algorithm so it gives us a better results \".\n",
    "\n",
    "-----\n"
   ]
  },
  {
   "cell_type": "markdown",
   "metadata": {},
   "source": [
    "#### Tuning the Algorithm :\n",
    "\n",
    "Each learning algorithm have some parameters that have to be tuned in order to get a better results.\n",
    "Essentially the ultimate goal of machine learning is to make a machine system that can automatically build models from data without requiring tedious and time consuming human involvement. As you recognize, one of the difficulties is that learning algorithms (eg. decision trees, random forests, clustering techniques, etc.) require you to set parameters before you use the models (or at least to set constraints on those parameters). How you set those parameters can depend on a whole host of factors. That said, your goal, is usually to set those parameters to so optimal values that enable you to complete a learning task in the best way possible. Thus, tuning an algorithm or machine learning technique, can be simply thought of as process which one goes through in which they optimize the parameters that impact the model in order to enable the algorithm to perform the best (once, of course you have defined what \"best\" actual is).\n",
    "  \n",
    "Tuning can be done by try many numbers and find the best parameters, luckly there is a function called GridSearchCV from sklearn.model_selection, which do that search for us, for more information about it visit this [link](http://scikit-learn.org/stable/modules/generated/sklearn.model_selection.GridSearchCV.html)\n",
    "\n",
    "---------\n",
    "\n",
    "Now the following table is the new accuracy results after tuning the algorithms, and the best parameters for them.\n",
    "  \n",
    "Algorithm| Accuracy | parameters\n",
    "-------|------|-----------\n",
    "DecisionTree| 0.82823 | {'max_features': 'sqrt', 'min_samples_split': 7}\n",
    "SVM |   N/A  | {'C': 1.0, 'gamma': 128.0}\n",
    "adaboost w/DT |  0.85282 |  {'n_estimators': 13, 'learning_rate': 0.35}\n",
    "adaboost w/SVM |  N/A  | {'n_estimators': 8, 'learning_rate': 0.1}\n",
    "random Forest  | 0.85650 | {'min_samples_split': 3, 'n_estimators': 6, 'max_features': 'sqrt'}\n",
    "\n",
    "--------------\n",
    "\n",
    "It looks like using Support vector machines is a bad idea for this project.\n",
    "So to decide which algorithm is better accuracy is not enough we need more evaluation metrics which is covered  later.\n",
    "\n",
    "------\n",
    "\n",
    "\n"
   ]
  },
  {
   "cell_type": "markdown",
   "metadata": {},
   "source": [
    "### Validation\n",
    "\n",
    "Learning the parameters of a prediction function and testing it on the same data is a methodological mistake: a model that would just repeat the labels of the samples that it has just seen would have a perfect score but would fail to predict anything useful on yet-unseen data. This situation is called overfitting. To avoid it, it is common practice when performing a (supervised) machine learning experiment to hold out part of the available data as a test set X_test, y_test. [(link)](http://scikit-learn.org/stable/modules/cross_validation.html)\n",
    "\n",
    "An easy way to do it is to split the data into two sets test-set and train-set, this can be done using the function train_test_split from sklearn.model_selection.   \n",
    "But a better way to do it is by splitting the data into k-folds sets, which makes the learning more strong and the result more accurate, I'm going to use [StratifiedShuffleSplit()](http://scikit-learn.org/stable/modules/generated/sklearn.model_selection.StratifiedShuffleSplit.html#sklearn.model_selection.StratifiedShuffleSplit) but there are many others on sklearn documentation. \n",
    "\n",
    "-----------\n",
    "\n"
   ]
  },
  {
   "cell_type": "markdown",
   "metadata": {},
   "source": [
    "### Evaluation\n",
    "\n",
    "We chose our features and our algorithm but how to know how good are our choices!, here comes the importance of evaluation metrics.  \n",
    "Evaluation metrics are some variables each of them describes one side of the prediction process and each of them helps us to decide wether we are doing well or not.  \n",
    "We encountered one of them earlier, the accuracy, the accuracy computes how right our predictions are, so higher accuracy means higher number of true predictions.   \n",
    "But there are still other metrics, I'll explain some of them.   \n",
    "\n",
    "- Precision is about being precise. In common English, being precise means: if you give an answer, the answer will very likely be correct. So even if you answered only one question, and you answered this question correctly, you are 100% precise.\n",
    "- Recall (as opposed to precision) is not so much about answering questions correctly but more about answering all questions that have answer \"true\" with the answer \"true\". So if we simply always answer \"true\", we have 100% recall. In order to compute both precision and recall we need to have a notion of \"true\" answers and \"false\" answers.   \n",
    "- F1 score : The F1 Score is the 2*((precision*recall)/(precision+recall)). Put another way, the F1 score conveys the balance between the precision and the recall.  \n",
    "  \n",
    "-------------------------------------\n"
   ]
  },
  {
   "cell_type": "markdown",
   "metadata": {},
   "source": [
    "### Final results\n",
    "\n",
    "After choosing the right features, algorithm, tuning the algorithm, validation, and evaluation metrics, lets put them all together and look at the final result.\n",
    "\n",
    "with a 145 person and the following features :\n",
    "\n",
    "```python\n",
    "features_list = ['poi','salary', 'total_payments', 'long_term_incentive', 'expenses', 'exercised_stock_options', 'restricted_stock', 'from_messages', 'other','shared_receipt_with_poi', 'from_this_person_to_poi', 'from_poi_to_this_person_ratio2', 'from_this_person_to_poi_ratio1', 'from_this_person_to_poi_ratio2', 'to_messages','from_poi_to_this_person_ratio1' ,'bonus','from_poi_to_this_person', 'loan_advances'  ]\n",
    "```\n",
    "  \n",
    ", and the Decision Tree classifier with GridSearchCV as follow :\n",
    "``` python\n",
    "params ={\n",
    "\t'min_samples_split': range(2,12,5),\n",
    "\t'max_features' : ('sqrt', 'log2')\n",
    "\t}\n",
    "DT = DecisionTreeClassifier(criterion = 'gini', random_state = 42)\n",
    "sss = StratifiedShuffleSplit(n_splits = 100, test_size = .3, random_state = 42)\n",
    "CV = GridSearchCV(DT, params, n_jobs = 3, scoring=\"f1\", cv=sss)\n",
    "```\n",
    "And test using the StratifiedShuffleSplit() with folds = 100, we get the following evaluation result :   \n",
    "    \n",
    "metric|score\n",
    "--------|-----  \n",
    "Accuracy |  0.83400\t\n",
    "Precision| 0.37931  \n",
    "Recall | 0.38500\t\n",
    "F1 | 0.38213\t\n",
    "F2 | 0.38385\n",
    "Total predictions | 1500\n",
    "True positives |  77\t\n",
    "False positives | 126\t\n",
    "False negatives | 123\n",
    "True negatives | 1174\n",
    "\n",
    "\n",
    "---------------------------------------------------------------\n",
    "\n",
    "\n"
   ]
  },
  {
   "cell_type": "markdown",
   "metadata": {},
   "source": [
    "### Resources\n",
    "\n",
    "1. [Stack-overflow: what is tuning in machine learning.](http://stackoverflow.com/questions/22903267/what-is-tuning-in-machine-learning)\n",
    "2. [Paper on Boosting Support Vector Machines by Elkin García, Fernando Lozano.](http://elkingarcia.github.io/Papers/MLDM07.pdf)\n",
    "3. [Scikit-learn (machine learning tools for python).](http://scikit-learn.org)\n",
    "4. [List of public enron emails.](https://www.cs.cmu.edu/~./enron/)\n",
    "5. [Quora: explaining precision and recall](https://www.quora.com/What-is-the-best-way-to-understand-the-terms-precision-and-recall)\n",
    "\n",
    "------"
   ]
  }
 ],
 "metadata": {
  "anaconda-cloud": {
   "attach-environment": false,
   "environment": null,
   "url": "https://anaconda.org/bekaa/enron"
  },
  "celltoolbar": "Hide code",
  "kernelspec": {
   "display_name": "Python [default]",
   "language": "python",
   "name": "python2"
  },
  "language_info": {
   "codemirror_mode": {
    "name": "ipython",
    "version": 2
   },
   "file_extension": ".py",
   "mimetype": "text/x-python",
   "name": "python",
   "nbconvert_exporter": "python",
   "pygments_lexer": "ipython2",
   "version": "2.7.12"
  }
 },
 "nbformat": 4,
 "nbformat_minor": 1
}
